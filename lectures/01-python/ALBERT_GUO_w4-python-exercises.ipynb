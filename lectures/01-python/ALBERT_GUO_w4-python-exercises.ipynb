{
 "cells": [
  {
   "cell_type": "code",
   "execution_count": null,
   "metadata": {},
   "outputs": [],
   "source": [
    "from __future__ import print_function"
   ]
  },
  {
   "cell_type": "markdown",
   "metadata": {},
   "source": [
    "## Naming conventions"
   ]
  },
  {
   "cell_type": "markdown",
   "metadata": {},
   "source": [
    "The python community has some naming convections, defined in PEP-8:\n",
    "\n",
    "https://www.python.org/dev/peps/pep-0008/\n",
    "\n",
    "The widely adopted ones are:\n",
    "\n",
    "* class names start with an uppercase, and use \"camelcase\" for multiword names, e.g. `ShoppingCart`\n",
    "\n",
    "* varible names (including objects which are instances of a class) are lowercase and use underscores to separate words, e.g., `shopping_cart`\n",
    "\n",
    "* module names should be lowercase with underscores\n",
    "\n"
   ]
  },
  {
   "cell_type": "markdown",
   "metadata": {},
   "source": [
    "# Practicing Classes"
   ]
  },
  {
   "cell_type": "markdown",
   "metadata": {},
   "source": [
    "## Exercise 1 (shopping cart)"
   ]
  },
  {
   "cell_type": "markdown",
   "metadata": {},
   "source": [
    "Let's write a simple shopping cart class -- this will hold items that you intend to purchase as well as the amount, etc.  And allow you to add / remove items, get a subtotal, etc.\n",
    "\n",
    "We'll use two classes: `Item` will be a single item and `ShoppingCart` will be the collection of items you wish to purchase.\n",
    "\n",
    "First, our store needs an inventory -- here's what we have for sale:"
   ]
  },
  {
   "cell_type": "code",
   "execution_count": 3,
   "metadata": {},
   "outputs": [],
   "source": [
    "INVENTORY_TEXT = \"\"\"\n",
    "apple, 0.60\n",
    "banana, 0.20\n",
    "grapefruit, 0.75\n",
    "grapes, 1.99\n",
    "kiwi, 0.50\n",
    "lemon, 0.20\n",
    "lime, 0.25\n",
    "mango, 1.50\n",
    "papaya, 2.95\n",
    "pineapple, 3.50\n",
    "blueberries, 1.99\n",
    "blackberries, 2.50\n",
    "peach, 0.50\n",
    "plum, 0.33\n",
    "clementine, 0.25\n",
    "cantaloupe, 3.25\n",
    "pear, 1.25\n",
    "quince, 0.45\n",
    "orange, 0.60\n",
    "\"\"\"\n",
    "\n",
    "# this will be a global -- convention is all caps\n",
    "INVENTORY = {}\n",
    "for line in INVENTORY_TEXT.splitlines():\n",
    "    if line.strip() == \"\":\n",
    "        continue\n",
    "    item, price = line.split(\",\")\n",
    "    INVENTORY[item] = float(price)\n"
   ]
  },
  {
   "cell_type": "code",
   "execution_count": 4,
   "metadata": {},
   "outputs": [
    {
     "data": {
      "text/plain": [
       "{'apple': 0.6,\n",
       " 'banana': 0.2,\n",
       " 'blackberries': 2.5,\n",
       " 'blueberries': 1.99,\n",
       " 'cantaloupe': 3.25,\n",
       " 'clementine': 0.25,\n",
       " 'grapefruit': 0.75,\n",
       " 'grapes': 1.99,\n",
       " 'kiwi': 0.5,\n",
       " 'lemon': 0.2,\n",
       " 'lime': 0.25,\n",
       " 'mango': 1.5,\n",
       " 'orange': 0.6,\n",
       " 'papaya': 2.95,\n",
       " 'peach': 0.5,\n",
       " 'pear': 1.25,\n",
       " 'pineapple': 3.5,\n",
       " 'plum': 0.33,\n",
       " 'quince': 0.45}"
      ]
     },
     "execution_count": 4,
     "metadata": {},
     "output_type": "execute_result"
    }
   ],
   "source": [
    "INVENTORY"
   ]
  },
  {
   "cell_type": "markdown",
   "metadata": {},
   "source": [
    "### `Item` "
   ]
  },
  {
   "cell_type": "markdown",
   "metadata": {},
   "source": [
    "Here's the start of an item class -- we want it to hold the name and quantity.  \n",
    "\n",
    "You should have the following features:\n",
    "\n",
    "* the name should be something in our inventory\n",
    "\n",
    "* Our shopping cart will include a list of all the items we want to buy, so we want to be able to check for duplicates.  Implement the equal test, `==`, using `__eq__`\n",
    "\n",
    "* we'll want to consolidate dupes, so implement the `+` operator, using `__add__` so we can add items together in our shopping cart.  Note, add should raise a ValueError if you try to add two `Items` that don't have the same name.\n",
    "\n",
    "Here's a start:"
   ]
  },
  {
   "cell_type": "code",
   "execution_count": 5,
   "metadata": {},
   "outputs": [],
   "source": [
    "class Item(object):\n",
    "    \"\"\" an item to buy \"\"\"\n",
    "    \n",
    "    def __init__(self, name, quantity=1):\n",
    "        \"\"\"keep track of an item that is in our inventory\"\"\"\n",
    "        if name not in INVENTORY:\n",
    "            raise ValueError(\"invalid item name\")\n",
    "        self.name = name\n",
    "        self.quantity = quantity\n",
    "        \n",
    "    def __repr__(self):\n",
    "        return \"{}: {}\".format(self.name, self.quantity)\n",
    "        \n",
    "    def __eq__(self, other):\n",
    "        \"\"\"check if the items have the same name\"\"\"\n",
    "        return self.name == other.name\n",
    "    \n",
    "    def __add__(self, other):\n",
    "        \"\"\"add two items together if they are the same type\"\"\"\n",
    "        if self.name == other.name:\n",
    "            return Item(self.name, self.quantity + other.quantity)\n",
    "        else:\n",
    "            raise ValueError(\"names don't match\")"
   ]
  },
  {
   "cell_type": "markdown",
   "metadata": {},
   "source": [
    "Here are some tests your code should pass:"
   ]
  },
  {
   "cell_type": "code",
   "execution_count": 6,
   "metadata": {},
   "outputs": [],
   "source": [
    "a = Item(\"apple\", 10)\n",
    "b = Item(\"banana\", 20)"
   ]
  },
  {
   "cell_type": "code",
   "execution_count": 7,
   "metadata": {},
   "outputs": [],
   "source": [
    "c = Item(\"apple\", 20)"
   ]
  },
  {
   "cell_type": "code",
   "execution_count": 8,
   "metadata": {
    "scrolled": true
   },
   "outputs": [
    {
     "ename": "ValueError",
     "evalue": "names don't match",
     "output_type": "error",
     "traceback": [
      "\u001b[0;31m---------------------------------------------------------------------------\u001b[0m",
      "\u001b[0;31mValueError\u001b[0m                                Traceback (most recent call last)",
      "\u001b[0;32m<ipython-input-8-b6f00cbc1c51>\u001b[0m in \u001b[0;36m<module>\u001b[0;34m()\u001b[0m\n\u001b[1;32m      1\u001b[0m \u001b[0;31m# won't work\u001b[0m\u001b[0;34m\u001b[0m\u001b[0;34m\u001b[0m\u001b[0;34m\u001b[0m\u001b[0m\n\u001b[0;32m----> 2\u001b[0;31m \u001b[0ma\u001b[0m \u001b[0;34m+\u001b[0m \u001b[0mb\u001b[0m\u001b[0;34m\u001b[0m\u001b[0;34m\u001b[0m\u001b[0m\n\u001b[0m",
      "\u001b[0;32m<ipython-input-5-bfaaae5b69f7>\u001b[0m in \u001b[0;36m__add__\u001b[0;34m(self, other)\u001b[0m\n\u001b[1;32m     21\u001b[0m             \u001b[0;32mreturn\u001b[0m \u001b[0mItem\u001b[0m\u001b[0;34m(\u001b[0m\u001b[0mself\u001b[0m\u001b[0;34m.\u001b[0m\u001b[0mname\u001b[0m\u001b[0;34m,\u001b[0m \u001b[0mself\u001b[0m\u001b[0;34m.\u001b[0m\u001b[0mquantity\u001b[0m \u001b[0;34m+\u001b[0m \u001b[0mother\u001b[0m\u001b[0;34m.\u001b[0m\u001b[0mquantity\u001b[0m\u001b[0;34m)\u001b[0m\u001b[0;34m\u001b[0m\u001b[0;34m\u001b[0m\u001b[0m\n\u001b[1;32m     22\u001b[0m         \u001b[0;32melse\u001b[0m\u001b[0;34m:\u001b[0m\u001b[0;34m\u001b[0m\u001b[0;34m\u001b[0m\u001b[0m\n\u001b[0;32m---> 23\u001b[0;31m             \u001b[0;32mraise\u001b[0m \u001b[0mValueError\u001b[0m\u001b[0;34m(\u001b[0m\u001b[0;34m\"names don't match\"\u001b[0m\u001b[0;34m)\u001b[0m\u001b[0;34m\u001b[0m\u001b[0;34m\u001b[0m\u001b[0m\n\u001b[0m",
      "\u001b[0;31mValueError\u001b[0m: names don't match"
     ]
    }
   ],
   "source": [
    "# won't work\n",
    "a + b"
   ]
  },
  {
   "cell_type": "code",
   "execution_count": 9,
   "metadata": {},
   "outputs": [
    {
     "name": "stdout",
     "output_type": "stream",
     "text": [
      "apple: 30\n"
     ]
    }
   ],
   "source": [
    "# will work\n",
    "a += c\n",
    "print(a)"
   ]
  },
  {
   "cell_type": "code",
   "execution_count": 10,
   "metadata": {},
   "outputs": [
    {
     "ename": "ValueError",
     "evalue": "invalid item name",
     "output_type": "error",
     "traceback": [
      "\u001b[0;31m---------------------------------------------------------------------------\u001b[0m",
      "\u001b[0;31mValueError\u001b[0m                                Traceback (most recent call last)",
      "\u001b[0;32m<ipython-input-10-c92d9e8eaa7b>\u001b[0m in \u001b[0;36m<module>\u001b[0;34m()\u001b[0m\n\u001b[0;32m----> 1\u001b[0;31m \u001b[0md\u001b[0m \u001b[0;34m=\u001b[0m \u001b[0mItem\u001b[0m\u001b[0;34m(\u001b[0m\u001b[0;34m\"dog\"\u001b[0m\u001b[0;34m)\u001b[0m\u001b[0;34m\u001b[0m\u001b[0;34m\u001b[0m\u001b[0m\n\u001b[0m",
      "\u001b[0;32m<ipython-input-5-bfaaae5b69f7>\u001b[0m in \u001b[0;36m__init__\u001b[0;34m(self, name, quantity)\u001b[0m\n\u001b[1;32m      5\u001b[0m         \u001b[0;34m\"\"\"keep track of an item that is in our inventory\"\"\"\u001b[0m\u001b[0;34m\u001b[0m\u001b[0;34m\u001b[0m\u001b[0m\n\u001b[1;32m      6\u001b[0m         \u001b[0;32mif\u001b[0m \u001b[0mname\u001b[0m \u001b[0;32mnot\u001b[0m \u001b[0;32min\u001b[0m \u001b[0mINVENTORY\u001b[0m\u001b[0;34m:\u001b[0m\u001b[0;34m\u001b[0m\u001b[0;34m\u001b[0m\u001b[0m\n\u001b[0;32m----> 7\u001b[0;31m             \u001b[0;32mraise\u001b[0m \u001b[0mValueError\u001b[0m\u001b[0;34m(\u001b[0m\u001b[0;34m\"invalid item name\"\u001b[0m\u001b[0;34m)\u001b[0m\u001b[0;34m\u001b[0m\u001b[0;34m\u001b[0m\u001b[0m\n\u001b[0m\u001b[1;32m      8\u001b[0m         \u001b[0mself\u001b[0m\u001b[0;34m.\u001b[0m\u001b[0mname\u001b[0m \u001b[0;34m=\u001b[0m \u001b[0mname\u001b[0m\u001b[0;34m\u001b[0m\u001b[0;34m\u001b[0m\u001b[0m\n\u001b[1;32m      9\u001b[0m         \u001b[0mself\u001b[0m\u001b[0;34m.\u001b[0m\u001b[0mquantity\u001b[0m \u001b[0;34m=\u001b[0m \u001b[0mquantity\u001b[0m\u001b[0;34m\u001b[0m\u001b[0;34m\u001b[0m\u001b[0m\n",
      "\u001b[0;31mValueError\u001b[0m: invalid item name"
     ]
    }
   ],
   "source": [
    "d = Item(\"dog\")"
   ]
  },
  {
   "cell_type": "code",
   "execution_count": 11,
   "metadata": {},
   "outputs": [
    {
     "data": {
      "text/plain": [
       "False"
      ]
     },
     "execution_count": 11,
     "metadata": {},
     "output_type": "execute_result"
    }
   ],
   "source": [
    "# should be False\n",
    "a == b"
   ]
  },
  {
   "cell_type": "code",
   "execution_count": 12,
   "metadata": {},
   "outputs": [
    {
     "data": {
      "text/plain": [
       "True"
      ]
     },
     "execution_count": 12,
     "metadata": {},
     "output_type": "execute_result"
    }
   ],
   "source": [
    "# should be True -- they have the same name\n",
    "a == c"
   ]
  },
  {
   "cell_type": "markdown",
   "metadata": {},
   "source": [
    "How do they behave in a list?"
   ]
  },
  {
   "cell_type": "code",
   "execution_count": 14,
   "metadata": {},
   "outputs": [
    {
     "data": {
      "text/plain": [
       "[apple: 30, banana: 20]"
      ]
     },
     "execution_count": 14,
     "metadata": {},
     "output_type": "execute_result"
    }
   ],
   "source": [
    "items = []\n",
    "items.append(a)\n",
    "items.append(b)\n",
    "items"
   ]
  },
  {
   "cell_type": "code",
   "execution_count": 15,
   "metadata": {},
   "outputs": [
    {
     "data": {
      "text/plain": [
       "True"
      ]
     },
     "execution_count": 15,
     "metadata": {},
     "output_type": "execute_result"
    }
   ],
   "source": [
    "# should be True -- they have the same name\n",
    "c in items"
   ]
  },
  {
   "cell_type": "markdown",
   "metadata": {},
   "source": [
    "### `ShoppingCart`"
   ]
  },
  {
   "cell_type": "markdown",
   "metadata": {},
   "source": [
    "Now we want to create a shopping cart.  The main thing it will do is hold a list of items."
   ]
  },
  {
   "cell_type": "code",
   "execution_count": 81,
   "metadata": {},
   "outputs": [],
   "source": [
    "# Albert Guo's solution\n",
    "class ShoppingCart(object):\n",
    "    \n",
    "    def __init__(self):\n",
    "        # the list of items we control\n",
    "        self.items = []\n",
    "        \n",
    "    def subtotal(self):\n",
    "        \"\"\" return a subtotal of our items \"\"\"\n",
    "        \n",
    "        return sum([INVENTORY[i.name] * i.quantity for i in self.items])\n",
    "\n",
    "    def add(self, name, quantity):\n",
    "        \"\"\" add an item to our cart -- the an item of the same name already\n",
    "        exists, then increment the quantity.  Otherwise, add a new item\n",
    "        to the cart with the desired quantity.\"\"\"\n",
    "        \n",
    "        is_new = True\n",
    "        \n",
    "        for i in range(len(self.items)):\n",
    "            if self.items[i].name == name:\n",
    "                self.items[i].quantity += quantity\n",
    "                is_new = False\n",
    "        \n",
    "        if is_new:\n",
    "            self.items.append(Item(name, quantity))\n",
    "            \n",
    "        \n",
    "    def remove(self, name):\n",
    "        \"\"\" remove all of item name from the cart \"\"\"\n",
    "        \n",
    "        remove_item = Item(name)\n",
    "        self.items.remove(remove_item)\n",
    "        \n",
    "    def report(self):\n",
    "        \"\"\" print a summary of the cart \"\"\"\n",
    "        for item in self.items:\n",
    "            print(\"{} : {}\".format(item.name, item.quantity))"
   ]
  },
  {
   "cell_type": "markdown",
   "metadata": {},
   "source": [
    "Here are some tests"
   ]
  },
  {
   "cell_type": "code",
   "execution_count": 82,
   "metadata": {},
   "outputs": [],
   "source": [
    "sc = ShoppingCart()\n",
    "sc.add(\"orange\", 19)"
   ]
  },
  {
   "cell_type": "code",
   "execution_count": 83,
   "metadata": {},
   "outputs": [],
   "source": [
    "sc.add(\"apple\", 2)"
   ]
  },
  {
   "cell_type": "code",
   "execution_count": 84,
   "metadata": {},
   "outputs": [
    {
     "name": "stdout",
     "output_type": "stream",
     "text": [
      "orange : 19\n",
      "apple : 2\n"
     ]
    }
   ],
   "source": [
    "sc.report()"
   ]
  },
  {
   "cell_type": "code",
   "execution_count": 85,
   "metadata": {},
   "outputs": [],
   "source": [
    "sc.add(\"apple\", 9)"
   ]
  },
  {
   "cell_type": "code",
   "execution_count": 86,
   "metadata": {},
   "outputs": [
    {
     "name": "stdout",
     "output_type": "stream",
     "text": [
      "orange : 19\n",
      "apple : 11\n"
     ]
    }
   ],
   "source": [
    "# apple should only be listed once in the report, with a quantity of 11\n",
    "sc.report()"
   ]
  },
  {
   "cell_type": "code",
   "execution_count": 87,
   "metadata": {},
   "outputs": [
    {
     "data": {
      "text/plain": [
       "18.0"
      ]
     },
     "execution_count": 87,
     "metadata": {},
     "output_type": "execute_result"
    }
   ],
   "source": [
    "sc.subtotal()"
   ]
  },
  {
   "cell_type": "code",
   "execution_count": 88,
   "metadata": {},
   "outputs": [],
   "source": [
    "sc.remove(\"apple\")"
   ]
  },
  {
   "cell_type": "code",
   "execution_count": 89,
   "metadata": {},
   "outputs": [
    {
     "name": "stdout",
     "output_type": "stream",
     "text": [
      "orange : 19\n"
     ]
    }
   ],
   "source": [
    "# apple should no longer be listed\n",
    "sc.report()"
   ]
  },
  {
   "cell_type": "markdown",
   "metadata": {
    "collapsed": true
   },
   "source": [
    "## Exercise 2: Poker Odds"
   ]
  },
  {
   "cell_type": "markdown",
   "metadata": {},
   "source": [
    "Use the deck of cards class from the notebook we worked through outside of class to write a _Monte Carlo_ code that plays a lot of hands of straight poker (like 100,000).  Count how many of these hands has a particular poker hand (like 3-of-a-kind).  The ratio of # of hands with 3-of-a-kind to total hands is an approximation to the odds of getting a 3-of-a-kind in poker.\n",
    "\n",
    "You'll want to copy-paste those classes into a `.py` file to allow you to import and reuse them here"
   ]
  },
  {
   "cell_type": "code",
   "execution_count": 30,
   "metadata": {},
   "outputs": [
    {
     "name": "stdout",
     "output_type": "stream",
     "text": [
      "Straight flush:  4:♣ 5:♣ 6:♣ 7:♣ 8:♣\n",
      "Straight flush:  2:♠ 3:♠ 4:♠ 5:♠ 6:♠\n",
      "Straight flush:  7:♦ 8:♦ 9:♦ 10:♦ J:♦\n",
      "Straight flush:  5:♣ 6:♣ 7:♣ 8:♣ 9:♣\n",
      "Straight flush:  9:♠ 10:♠ J:♠ Q:♠ K:♠\n",
      "Straight flush:  3:♣ 4:♣ 5:♣ 6:♣ 7:♣\n",
      "Royal flush:  10:♣ J:♣ Q:♣ K:♣ A:♣\n",
      "Straight flush:  9:♠ 10:♠ J:♠ Q:♠ K:♠\n",
      "Straight flush:  9:♦ 10:♦ J:♦ Q:♦ K:♦\n",
      "Straight flush:  6:♠ 7:♠ 8:♠ 9:♠ 10:♠\n",
      "Straight flush:  8:♣ 9:♣ 10:♣ J:♣ Q:♣\n",
      "Royal flush:  10:♣ J:♣ Q:♣ K:♣ A:♣\n",
      "Straight flush:  5:♣ 6:♣ 7:♣ 8:♣ 9:♣\n",
      "Straight flush:  9:♠ 10:♠ J:♠ Q:♠ K:♠\n",
      "n=500000\n",
      "2\n",
      "12\n",
      "117\n",
      "708\n",
      "968\n",
      "1761\n",
      "10601\n",
      "23911\n",
      "211077\n"
     ]
    }
   ],
   "source": [
    "# Albert Guo's solution\n",
    "\n",
    "class Card(object):\n",
    "    \n",
    "    def __init__(self, suit=1, rank=2):\n",
    "        if suit < 1 or suit > 4:\n",
    "            print(\"invalid suit, setting to 1\")\n",
    "            suit = 1\n",
    "        \n",
    "            \n",
    "        self.suit = suit\n",
    "        self.rank = rank\n",
    "        \n",
    "\n",
    "    def value(self):\n",
    "        \"\"\" we want things order primarily by rank then suit \"\"\"\n",
    "        return self.suit + (self.rank-1)*14\n",
    "    \n",
    "    # we include this to allow for comparisons with < and > between cards \n",
    "    def __lt__(self, other):\n",
    "        return self.value() < other.value()\n",
    "\n",
    "    def __unicode__(self):\n",
    "        suits = [u\"\\u2660\",  # spade\n",
    "                 u\"\\u2665\",  # heart\n",
    "                 u\"\\u2666\",  # diamond\n",
    "                 u\"\\u2663\"]  # club\n",
    "        \n",
    "        r = str(self.rank)\n",
    "        if self.rank == 11:\n",
    "            r = \"J\"\n",
    "        elif self.rank == 12:\n",
    "            r = \"Q\"\n",
    "        elif self.rank == 13:\n",
    "            r = \"K\"\n",
    "        elif self.rank == 14:\n",
    "            r = \"A\"\n",
    "                \n",
    "        return r +':'+suits[self.suit-1]\n",
    "    \n",
    "    def __str__(self):\n",
    "        return self.__unicode__()  #.encode('utf-8')\n",
    "        \n",
    "\n",
    "        \n",
    "import random\n",
    "\n",
    "class Deck(object):\n",
    "    \"\"\" the deck is a collection of cards \"\"\"\n",
    "\n",
    "    def __init__(self):\n",
    "\n",
    "        self.nsuits = 4\n",
    "        self.nranks = 13\n",
    "        self.minrank = 2\n",
    "        self.maxrank = self.minrank + self.nranks - 1\n",
    "\n",
    "        self.cards = []\n",
    "\n",
    "        for rank in range(self.minrank,self.maxrank+1):\n",
    "            for suit in range(1, self.nsuits+1):\n",
    "                self.cards.append(Card(rank=rank, suit=suit))\n",
    "\n",
    "    def shuffle(self):\n",
    "        random.shuffle(self.cards)\n",
    "\n",
    "    def get_cards(self, num=1):\n",
    "        hand = []\n",
    "        for n in range(num):\n",
    "            hand.append(self.cards.pop())\n",
    "\n",
    "        return hand\n",
    "    \n",
    "    def __str__(self):\n",
    "        string = \"\"\n",
    "        for c in self.cards:\n",
    "            string += str(c) + \" \"\n",
    "        return string\n",
    "\n",
    "\n",
    "    \n",
    "    \n",
    "    \n",
    "    \n",
    "    \n",
    "# New code starts here\n",
    "\n",
    "\n",
    "def is_flush(hand):\n",
    "    return all([c.suit == hand[0].suit for c in hand])\n",
    "\n",
    "\n",
    "def is_straight(hand, n=5):\n",
    "    return all(sorted(hand)[i].rank == sorted(hand)[0].rank + i for i in range(5))\n",
    "\n",
    "def max_nkind(hand):\n",
    "    return max([len([c for c in hand if c.rank == hand[i].rank]) for i in range(5)])\n",
    "\n",
    "def is_full_house(hand):\n",
    "    matches = [len([c for c in hand if c.rank == hand[i].rank]) for i in range(5)]\n",
    "    if 3 in matches and 2 in matches: return True\n",
    "    else: return False\n",
    "    \n",
    "def is_two_pair(hand):\n",
    "    return [len([c for c in hand if c.rank == hand[i].rank]) for i in range(5)].count(2) == 4\n",
    "\n",
    "\n",
    "\n",
    "n = 500000\n",
    "\n",
    "hand_names = ['royal_flush', 'straight_flush', 'four_of_a_kind', 'full_house', 'flush', 'straight', \\\n",
    "              'three_of_a_kind', 'two_pair', 'one_pair']\n",
    "hand_dict = {}\n",
    "for s in hand_names:\n",
    "    hand_dict[s] = []\n",
    "\n",
    "\n",
    "\n",
    "\n",
    "for i in range(n):\n",
    "    \n",
    "    mydeck = Deck()\n",
    "    mydeck.shuffle()\n",
    "    myhand = mydeck.get_cards(5)\n",
    "    \n",
    "    \n",
    "    # This type of solution calls is_X(myhand) too many times\n",
    "#     if is_flush(myhand) and is_straight(myhand) and sorted(myhand)[5] == Card(1,14):\n",
    "#         print(\"Royal flush: \", *sorted(myhand))\n",
    "#     elif is_flush(myhand) and is_straight(myhand):\n",
    "#         print(\"Straight flush: \", *sorted(myhand))\n",
    "#     elif is_flush(myhand):\n",
    "#         print(\"Flush: \", *sorted(myhand))\n",
    "#     elif is_straight(myhand):\n",
    "#         print(\"Straight: \", *sorted(myhand))\n",
    "    \n",
    "    \n",
    "    flush = is_flush(myhand)\n",
    "    straight = is_straight(myhand)\n",
    "    nkind = max_nkind(myhand)\n",
    "    \n",
    "    if flush and straight and sorted(myhand)[4].rank == 14:\n",
    "        print(\"Royal flush: \", *sorted(myhand))\n",
    "        hand_dict['royal_flush'].append(sorted(myhand))\n",
    "    elif flush and straight:\n",
    "        print(\"Straight flush: \", *sorted(myhand))\n",
    "        hand_dict['straight_flush'].append(sorted(myhand))\n",
    "    elif flush:\n",
    "#         print(\"Flush: \", *sorted(myhand))\n",
    "        hand_dict['flush'].append(sorted(myhand))\n",
    "    elif straight:\n",
    "#         print(\"Straight: \", *sorted(myhand))\n",
    "        hand_dict['straight'].append(sorted(myhand))\n",
    "    \n",
    "    if nkind == 4:\n",
    "#         print(\"Four of a kind: \", *sorted(myhand))\n",
    "        hand_dict['four_of_a_kind'].append(sorted(myhand))\n",
    "    elif nkind == 3:\n",
    "        if is_full_house(myhand):\n",
    "#             print(\"Full house: \", *sorted(myhand))\n",
    "            hand_dict['full_house'].append(sorted(myhand))\n",
    "        else:\n",
    "#             print(\"Three of a kind: \", *sorted(myhand))\n",
    "            hand_dict['three_of_a_kind'].append(sorted(myhand))\n",
    "    elif nkind == 2:\n",
    "        if is_two_pair(myhand):\n",
    "#             print(\"Two pair: \", *sorted(myhand))\n",
    "            hand_dict['two_pair'].append(sorted(myhand))\n",
    "        else:\n",
    "#             print(\"One pair: \", *sorted(myhand))\n",
    "            hand_dict['one_pair'].append(sorted(myhand))\n",
    "\n",
    "print('n=' + str(n))\n",
    "for s in hand_dict:\n",
    "    print(len(hand_dict[s]))\n"
   ]
  },
  {
   "cell_type": "markdown",
   "metadata": {},
   "source": [
    "## Exercise 3: Tic-Tac-Toe\n",
    "\n",
    "Revisit the tic-tac-toe game you developed in the functions exercises but now write it as a class with methods to do each of the main steps.  "
   ]
  },
  {
   "cell_type": "code",
   "execution_count": 54,
   "metadata": {},
   "outputs": [],
   "source": [
    "class TicTacToe(object):\n",
    "    \n",
    "    \n",
    "    def __init__(self):\n",
    "        self.board = \"\"\"\n",
    " {s1:^3} | {s2:^3} | {s3:^3}\n",
    "-----+-----+-----\n",
    " {s4:^3} | {s5:^3} | {s6:^3}\n",
    "-----+-----+-----      123\n",
    " {s7:^3} | {s8:^3} | {s9:^3}       456\n",
    "                       789  \n",
    "\"\"\"\n",
    "        self.play = {}\n",
    "        self.n = 1\n",
    "        self.xo = ['o', 'x']\n",
    "        \n",
    "        for n in range(9):\n",
    "            self.play[\"s{}\".format(n+1)] = \"\"\n",
    "            \n",
    "            \n",
    "        while not self.check_win():\n",
    "            self.show_board()\n",
    "            self.get_move()\n",
    "\n",
    "            self.n = 3 - self.n\n",
    "\n",
    "        self.show_board()\n",
    "        print(\"Player {} wins!\".format(3 - self.n))\n",
    "\n",
    "        \n",
    "    \n",
    "    \n",
    "    def show_board(self):\n",
    "        \"\"\" display the playing board.  \n",
    "    We take a dictionary with the current state of the board\n",
    "    We rely on the board string to be a global variable\"\"\"\n",
    "        print(self.board.format(**self.play))\n",
    "    \n",
    "    \n",
    "    def get_move(self):\n",
    "        \"\"\" ask the current player, n, to make a move -- make sure the square was not \n",
    "        already played.  xo is a string of the character (x or o) we will place in\n",
    "        the desired square \"\"\"\n",
    "        valid_move = False\n",
    "        while not valid_move:\n",
    "            idx = input(\"Player {}, enter your move (1-9): \".format(self.n))\n",
    "\n",
    "            # added exception for KeyError\n",
    "            try:\n",
    "                if self.play[\"s{}\".format(idx)] == \"\":\n",
    "                    valid_move = True\n",
    "                else:\n",
    "                    print(\"Invalid move: Cell {t1} is {t2}\".format(t1=idx, t2=self.play['s{}'.format(idx)]))\n",
    "            except KeyError:\n",
    "                print(\"Invalid input: {}\".format(idx))\n",
    "\n",
    "        self.play[\"s{}\".format(idx)] = self.xo[self.n - 1]\n",
    "    \n",
    "    \n",
    "    def check_win(self):\n",
    "        \"\"\"Recevies the game board and checks if someone has already won the game\n",
    "   Parameters: \n",
    "   -----------\n",
    "   Play: {dict} The board game\n",
    "   Returns:\n",
    "   -------\n",
    "   win:  Logical\n",
    "         true is someone has won\"\"\"\n",
    "    \n",
    "    \n",
    "        win = False\n",
    "\n",
    "        win_nums = [[1,2,3], [4,5,6], [7,8,9], [1,4,7], [2,5,8], [3,6,9], [3,5,7], [1,5,9]]\n",
    "        for triple in win_nums:\n",
    "            if all([self.play['s{}'.format(t)] == 'o' for t in triple]):\n",
    "                win = True\n",
    "            elif all([self.play['s{}'.format(t)] == 'x' for t in triple]):\n",
    "                win = True\n",
    "        return win\n",
    "                \n",
    "                \n",
    "    "
   ]
  },
  {
   "cell_type": "code",
   "execution_count": 55,
   "metadata": {},
   "outputs": [
    {
     "name": "stdout",
     "output_type": "stream",
     "text": [
      "\n",
      "     |     |    \n",
      "-----+-----+-----\n",
      "     |     |    \n",
      "-----+-----+-----      123\n",
      "     |     |           456\n",
      "                       789  \n",
      "\n",
      "Player 1, enter your move (1-9): 5\n",
      "\n",
      "     |     |    \n",
      "-----+-----+-----\n",
      "     |  o  |    \n",
      "-----+-----+-----      123\n",
      "     |     |           456\n",
      "                       789  \n",
      "\n",
      "Player 2, enter your move (1-9): 4\n",
      "\n",
      "     |     |    \n",
      "-----+-----+-----\n",
      "  x  |  o  |    \n",
      "-----+-----+-----      123\n",
      "     |     |           456\n",
      "                       789  \n",
      "\n",
      "Player 1, enter your move (1-9): 3\n",
      "\n",
      "     |     |  o \n",
      "-----+-----+-----\n",
      "  x  |  o  |    \n",
      "-----+-----+-----      123\n",
      "     |     |           456\n",
      "                       789  \n",
      "\n",
      "Player 2, enter your move (1-9): 7\n",
      "\n",
      "     |     |  o \n",
      "-----+-----+-----\n",
      "  x  |  o  |    \n",
      "-----+-----+-----      123\n",
      "  x  |     |           456\n",
      "                       789  \n",
      "\n",
      "Player 1, enter your move (1-9): 1\n",
      "\n",
      "  o  |     |  o \n",
      "-----+-----+-----\n",
      "  x  |  o  |    \n",
      "-----+-----+-----      123\n",
      "  x  |     |           456\n",
      "                       789  \n",
      "\n",
      "Player 2, enter your move (1-9): 2\n",
      "\n",
      "  o  |  x  |  o \n",
      "-----+-----+-----\n",
      "  x  |  o  |    \n",
      "-----+-----+-----      123\n",
      "  x  |     |           456\n",
      "                       789  \n",
      "\n",
      "Player 1, enter your move (1-9): 9\n",
      "\n",
      "  o  |  x  |  o \n",
      "-----+-----+-----\n",
      "  x  |  o  |    \n",
      "-----+-----+-----      123\n",
      "  x  |     |  o        456\n",
      "                       789  \n",
      "\n",
      "Player 1 wins!\n"
     ]
    },
    {
     "data": {
      "text/plain": [
       "<__main__.TicTacToe at 0x7f11baab2be0>"
      ]
     },
     "execution_count": 55,
     "metadata": {},
     "output_type": "execute_result"
    }
   ],
   "source": [
    "TicTacToe()"
   ]
  },
  {
   "cell_type": "code",
   "execution_count": null,
   "metadata": {},
   "outputs": [],
   "source": []
  }
 ],
 "metadata": {
  "kernelspec": {
   "display_name": "Python 3",
   "language": "python",
   "name": "python3"
  },
  "language_info": {
   "codemirror_mode": {
    "name": "ipython",
    "version": 3
   },
   "file_extension": ".py",
   "mimetype": "text/x-python",
   "name": "python",
   "nbconvert_exporter": "python",
   "pygments_lexer": "ipython3",
   "version": "3.6.9"
  }
 },
 "nbformat": 4,
 "nbformat_minor": 2
}
